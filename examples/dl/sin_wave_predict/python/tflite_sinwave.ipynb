{
  "nbformat": 4,
  "nbformat_minor": 0,
  "metadata": {
    "colab": {
      "provenance": []
    },
    "kernelspec": {
      "name": "python3",
      "display_name": "Python 3"
    },
    "language_info": {
      "name": "python"
    }
  },
  "cells": [
    {
      "cell_type": "code",
      "execution_count": 1,
      "metadata": {
        "id": "vhmSZLF-KLGJ"
      },
      "outputs": [],
      "source": [
        "import numpy as np\n",
        "import tensorflow as tf\n",
        "from tensorflow.keras.models import Sequential\n",
        "from tensorflow.keras.layers import Dense, Flatten\n",
        "import matplotlib.pyplot as plt\n",
        "import math\n",
        "from sklearn.model_selection import train_test_split"
      ]
    },
    {
      "cell_type": "code",
      "source": [
        "x_values = np.arange(0,2*math.pi,0.001)\n",
        "\n",
        "np.random.shuffle(x_values)\n",
        "y_values = np.sin(x_values)\n",
        "y_values += 0.1 * np.random.randn(*y_values.shape)\n",
        "\n",
        "x_train,x_test,y_train,y_test = train_test_split(x_values,y_values,test_size=0.3)\n",
        "\n",
        "plt.plot(x_values, y_values, 'b.')\n",
        "plt.show()\n"
      ],
      "metadata": {
        "colab": {
          "base_uri": "https://localhost:8080/",
          "height": 430
        },
        "id": "FI_8N8_ELHiW",
        "outputId": "4e59fe47-d5ba-45a2-8c0a-ed097fcb0966"
      },
      "execution_count": 2,
      "outputs": [
        {
          "output_type": "display_data",
          "data": {
            "text/plain": [
              "<Figure size 640x480 with 1 Axes>"
            ],
            "image/png": "[encoded data removed]"
          },
          "metadata": {}
        }
      ]
    },
    {
      "cell_type": "code",
      "source": [
        "model = tf.keras.Sequential()\n",
        "model.add(Dense(32, activation='relu', input_shape=(1,)))\n",
        "model.add(Dense(16, activation='relu'))\n",
        "model.add(Dense(1,activation='linear'))\n",
        "\n",
        "print(model.summary())\n"
      ],
      "metadata": {
        "id": "40QaCaKeLV5G",
        "colab": {
          "base_uri": "https://localhost:8080/"
        },
        "outputId": "c39df055-dadd-4a96-bade-a93d029242cd"
      },
      "execution_count": 3,
      "outputs": [
        {
          "output_type": "stream",
          "name": "stdout",
          "text": [
            "Model: \"sequential\"\n",
            "_________________________________________________________________\n",
            " Layer (type)                Output Shape              Param #   \n",
            "=================================================================\n",
            " dense (Dense)               (None, 32)                64        \n",
            "                                                                 \n",
            " dense_1 (Dense)             (None, 16)                528       \n",
            "                                                                 \n",
            " dense_2 (Dense)             (None, 1)                 17        \n",
            "                                                                 \n",
            "=================================================================\n",
            "Total params: 609 (2.38 KB)\n",
            "Trainable params: 609 (2.38 KB)\n",
            "Non-trainable params: 0 (0.00 Byte)\n",
            "_________________________________________________________________\n",
            "None\n"
          ]
        }
      ]
    },
    {
      "cell_type": "code",
      "source": [
        "model.compile(optimizer='adam', loss='mse', metrics=['mae'])\n",
        "model.fit(x_train, y_train, epochs=100, batch_size=128, validation_data=(x_test, y_test))"
      ],
      "metadata": {
        "colab": {
          "base_uri": "https://localhost:8080/"
        },
        "id": "bfFeduGTLa49",
        "outputId": "4e5ad4bc-6d1c-4dab-eb79-ae4ee271782d"
      },
      "execution_count": 4,
      "outputs": [
        {
          "output_type": "stream",
          "name": "stdout",
          "text": [
            "Epoch 1/100\n",
            "35/35 [==============================] - 6s 29ms/step - loss: 0.7804 - mae: 0.7576 - val_loss: 0.4751 - val_mae: 0.6026\n",
            "Epoch 2/100\n",
            "35/35 [==============================] - 1s 15ms/step - loss: 0.4334 - mae: 0.5658 - val_loss: 0.4060 - val_mae: 0.5535\n",
            "Epoch 3/100\n",
            "35/35 [==============================] - 0s 11ms/step - loss: 0.3632 - mae: 0.5193 - val_loss: 0.3344 - val_mae: 0.4997\n",
            "Epoch 4/100\n",
            "35/35 [==============================] - 0s 10ms/step - loss: 0.2970 - mae: 0.4694 - val_loss: 0.2704 - val_mae: 0.4527\n",
            "Epoch 5/100\n",
            "35/35 [==============================] - 0s 14ms/step - loss: 0.2403 - mae: 0.4249 - val_loss: 0.2190 - val_mae: 0.4103\n",
            "Epoch 6/100\n",
            "35/35 [==============================] - 1s 15ms/step - loss: 0.1977 - mae: 0.3877 - val_loss: 0.1821 - val_mae: 0.3764\n",
            "Epoch 7/100\n",
            "35/35 [==============================] - 1s 15ms/step - loss: 0.1695 - mae: 0.3607 - val_loss: 0.1600 - val_mae: 0.3520\n",
            "Epoch 8/100\n",
            "35/35 [==============================] - 1s 15ms/step - loss: 0.1536 - mae: 0.3413 - val_loss: 0.1477 - val_mae: 0.3371\n",
            "Epoch 9/100\n",
            "35/35 [==============================] - 1s 20ms/step - loss: 0.1447 - mae: 0.3295 - val_loss: 0.1406 - val_mae: 0.3251\n",
            "Epoch 10/100\n",
            "35/35 [==============================] - 1s 18ms/step - loss: 0.1399 - mae: 0.3203 - val_loss: 0.1362 - val_mae: 0.3189\n",
            "Epoch 11/100\n",
            "35/35 [==============================] - 0s 10ms/step - loss: 0.1354 - mae: 0.3128 - val_loss: 0.1322 - val_mae: 0.3130\n",
            "Epoch 12/100\n",
            "35/35 [==============================] - 0s 10ms/step - loss: 0.1317 - mae: 0.3077 - val_loss: 0.1279 - val_mae: 0.3050\n",
            "Epoch 13/100\n",
            "35/35 [==============================] - 1s 15ms/step - loss: 0.1278 - mae: 0.3008 - val_loss: 0.1244 - val_mae: 0.2998\n",
            "Epoch 14/100\n",
            "35/35 [==============================] - 0s 14ms/step - loss: 0.1242 - mae: 0.2950 - val_loss: 0.1204 - val_mae: 0.2928\n",
            "Epoch 15/100\n",
            "35/35 [==============================] - 0s 9ms/step - loss: 0.1203 - mae: 0.2891 - val_loss: 0.1164 - val_mae: 0.2850\n",
            "Epoch 16/100\n",
            "35/35 [==============================] - 1s 14ms/step - loss: 0.1163 - mae: 0.2822 - val_loss: 0.1127 - val_mae: 0.2777\n",
            "Epoch 17/100\n",
            "35/35 [==============================] - 0s 9ms/step - loss: 0.1124 - mae: 0.2743 - val_loss: 0.1089 - val_mae: 0.2729\n",
            "Epoch 18/100\n",
            "35/35 [==============================] - 0s 13ms/step - loss: 0.1081 - mae: 0.2677 - val_loss: 0.1045 - val_mae: 0.2647\n",
            "Epoch 19/100\n",
            "35/35 [==============================] - 0s 10ms/step - loss: 0.1040 - mae: 0.2596 - val_loss: 0.1013 - val_mae: 0.2603\n",
            "Epoch 20/100\n",
            "35/35 [==============================] - 1s 15ms/step - loss: 0.1004 - mae: 0.2543 - val_loss: 0.0973 - val_mae: 0.2504\n",
            "Epoch 21/100\n",
            "35/35 [==============================] - 1s 15ms/step - loss: 0.0967 - mae: 0.2470 - val_loss: 0.0935 - val_mae: 0.2413\n",
            "Epoch 22/100\n",
            "35/35 [==============================] - 0s 11ms/step - loss: 0.0921 - mae: 0.2367 - val_loss: 0.0896 - val_mae: 0.2372\n",
            "Epoch 23/100\n",
            "35/35 [==============================] - 0s 12ms/step - loss: 0.0880 - mae: 0.2297 - val_loss: 0.0856 - val_mae: 0.2298\n",
            "Epoch 24/100\n",
            "35/35 [==============================] - 0s 10ms/step - loss: 0.0842 - mae: 0.2230 - val_loss: 0.0818 - val_mae: 0.2223\n",
            "Epoch 25/100\n",
            "35/35 [==============================] - 0s 8ms/step - loss: 0.0807 - mae: 0.2166 - val_loss: 0.0784 - val_mae: 0.2146\n",
            "Epoch 26/100\n",
            "35/35 [==============================] - 0s 10ms/step - loss: 0.0774 - mae: 0.2104 - val_loss: 0.0762 - val_mae: 0.2131\n",
            "Epoch 27/100\n",
            "35/35 [==============================] - 0s 7ms/step - loss: 0.0745 - mae: 0.2059 - val_loss: 0.0727 - val_mae: 0.2045\n",
            "Epoch 28/100\n",
            "35/35 [==============================] - 0s 7ms/step - loss: 0.0718 - mae: 0.2001 - val_loss: 0.0702 - val_mae: 0.2021\n",
            "Epoch 29/100\n",
            "35/35 [==============================] - 0s 12ms/step - loss: 0.0686 - mae: 0.1957 - val_loss: 0.0679 - val_mae: 0.1990\n",
            "Epoch 30/100\n",
            "35/35 [==============================] - 0s 6ms/step - loss: 0.0657 - mae: 0.1913 - val_loss: 0.0645 - val_mae: 0.1918\n",
            "Epoch 31/100\n",
            "35/35 [==============================] - 0s 6ms/step - loss: 0.0631 - mae: 0.1860 - val_loss: 0.0618 - val_mae: 0.1863\n",
            "Epoch 32/100\n",
            "35/35 [==============================] - 0s 7ms/step - loss: 0.0602 - mae: 0.1815 - val_loss: 0.0601 - val_mae: 0.1850\n",
            "Epoch 33/100\n",
            "35/35 [==============================] - 0s 6ms/step - loss: 0.0579 - mae: 0.1788 - val_loss: 0.0567 - val_mae: 0.1774\n",
            "Epoch 34/100\n",
            "35/35 [==============================] - 0s 6ms/step - loss: 0.0554 - mae: 0.1741 - val_loss: 0.0544 - val_mae: 0.1746\n",
            "Epoch 35/100\n",
            "35/35 [==============================] - 0s 3ms/step - loss: 0.0528 - mae: 0.1686 - val_loss: 0.0527 - val_mae: 0.1726\n",
            "Epoch 36/100\n",
            "35/35 [==============================] - 0s 4ms/step - loss: 0.0502 - mae: 0.1654 - val_loss: 0.0493 - val_mae: 0.1635\n",
            "Epoch 37/100\n",
            "35/35 [==============================] - 0s 4ms/step - loss: 0.0477 - mae: 0.1611 - val_loss: 0.0470 - val_mae: 0.1610\n",
            "Epoch 38/100\n",
            "35/35 [==============================] - 0s 4ms/step - loss: 0.0452 - mae: 0.1566 - val_loss: 0.0450 - val_mae: 0.1587\n",
            "Epoch 39/100\n",
            "35/35 [==============================] - 0s 3ms/step - loss: 0.0427 - mae: 0.1524 - val_loss: 0.0422 - val_mae: 0.1531\n",
            "Epoch 40/100\n",
            "35/35 [==============================] - 0s 3ms/step - loss: 0.0403 - mae: 0.1481 - val_loss: 0.0410 - val_mae: 0.1525\n",
            "Epoch 41/100\n",
            "35/35 [==============================] - 0s 4ms/step - loss: 0.0379 - mae: 0.1442 - val_loss: 0.0375 - val_mae: 0.1444\n",
            "Epoch 42/100\n",
            "35/35 [==============================] - 0s 5ms/step - loss: 0.0356 - mae: 0.1400 - val_loss: 0.0355 - val_mae: 0.1414\n",
            "Epoch 43/100\n",
            "35/35 [==============================] - 0s 6ms/step - loss: 0.0338 - mae: 0.1366 - val_loss: 0.0340 - val_mae: 0.1395\n",
            "Epoch 44/100\n",
            "35/35 [==============================] - 0s 6ms/step - loss: 0.0315 - mae: 0.1332 - val_loss: 0.0315 - val_mae: 0.1308\n",
            "Epoch 45/100\n",
            "35/35 [==============================] - 0s 6ms/step - loss: 0.0298 - mae: 0.1290 - val_loss: 0.0296 - val_mae: 0.1296\n",
            "Epoch 46/100\n",
            "35/35 [==============================] - 0s 6ms/step - loss: 0.0280 - mae: 0.1260 - val_loss: 0.0280 - val_mae: 0.1253\n",
            "Epoch 47/100\n",
            "35/35 [==============================] - 0s 5ms/step - loss: 0.0264 - mae: 0.1233 - val_loss: 0.0264 - val_mae: 0.1230\n",
            "Epoch 48/100\n",
            "35/35 [==============================] - 0s 3ms/step - loss: 0.0247 - mae: 0.1196 - val_loss: 0.0248 - val_mae: 0.1200\n",
            "Epoch 49/100\n",
            "35/35 [==============================] - 0s 3ms/step - loss: 0.0233 - mae: 0.1168 - val_loss: 0.0234 - val_mae: 0.1173\n",
            "Epoch 50/100\n",
            "35/35 [==============================] - 0s 4ms/step - loss: 0.0222 - mae: 0.1140 - val_loss: 0.0224 - val_mae: 0.1155\n",
            "Epoch 51/100\n",
            "35/35 [==============================] - 0s 3ms/step - loss: 0.0211 - mae: 0.1115 - val_loss: 0.0210 - val_mae: 0.1113\n",
            "Epoch 52/100\n",
            "35/35 [==============================] - 0s 4ms/step - loss: 0.0201 - mae: 0.1095 - val_loss: 0.0213 - val_mae: 0.1132\n",
            "Epoch 53/100\n",
            "35/35 [==============================] - 0s 3ms/step - loss: 0.0192 - mae: 0.1075 - val_loss: 0.0191 - val_mae: 0.1067\n",
            "Epoch 54/100\n",
            "35/35 [==============================] - 0s 4ms/step - loss: 0.0184 - mae: 0.1054 - val_loss: 0.0185 - val_mae: 0.1045\n",
            "Epoch 55/100\n",
            "35/35 [==============================] - 0s 4ms/step - loss: 0.0175 - mae: 0.1033 - val_loss: 0.0180 - val_mae: 0.1056\n",
            "Epoch 56/100\n",
            "35/35 [==============================] - 0s 3ms/step - loss: 0.0169 - mae: 0.1019 - val_loss: 0.0170 - val_mae: 0.1021\n",
            "Epoch 57/100\n",
            "35/35 [==============================] - 0s 5ms/step - loss: 0.0162 - mae: 0.1002 - val_loss: 0.0162 - val_mae: 0.1000\n",
            "Epoch 58/100\n",
            "35/35 [==============================] - 0s 4ms/step - loss: 0.0157 - mae: 0.0985 - val_loss: 0.0158 - val_mae: 0.0990\n",
            "Epoch 59/100\n",
            "35/35 [==============================] - 0s 4ms/step - loss: 0.0152 - mae: 0.0975 - val_loss: 0.0151 - val_mae: 0.0969\n",
            "Epoch 60/100\n",
            "35/35 [==============================] - 0s 3ms/step - loss: 0.0147 - mae: 0.0956 - val_loss: 0.0148 - val_mae: 0.0946\n",
            "Epoch 61/100\n",
            "35/35 [==============================] - 0s 3ms/step - loss: 0.0143 - mae: 0.0945 - val_loss: 0.0142 - val_mae: 0.0942\n",
            "Epoch 62/100\n",
            "35/35 [==============================] - 0s 5ms/step - loss: 0.0139 - mae: 0.0933 - val_loss: 0.0139 - val_mae: 0.0923\n",
            "Epoch 63/100\n",
            "35/35 [==============================] - 0s 6ms/step - loss: 0.0137 - mae: 0.0928 - val_loss: 0.0138 - val_mae: 0.0931\n",
            "Epoch 64/100\n",
            "35/35 [==============================] - 0s 7ms/step - loss: 0.0133 - mae: 0.0919 - val_loss: 0.0132 - val_mae: 0.0915\n",
            "Epoch 65/100\n",
            "35/35 [==============================] - 0s 5ms/step - loss: 0.0130 - mae: 0.0910 - val_loss: 0.0130 - val_mae: 0.0900\n",
            "Epoch 66/100\n",
            "35/35 [==============================] - 0s 6ms/step - loss: 0.0130 - mae: 0.0910 - val_loss: 0.0127 - val_mae: 0.0895\n",
            "Epoch 67/100\n",
            "35/35 [==============================] - 0s 5ms/step - loss: 0.0128 - mae: 0.0904 - val_loss: 0.0124 - val_mae: 0.0887\n",
            "Epoch 68/100\n",
            "35/35 [==============================] - 0s 5ms/step - loss: 0.0124 - mae: 0.0888 - val_loss: 0.0123 - val_mae: 0.0887\n",
            "Epoch 69/100\n",
            "35/35 [==============================] - 0s 6ms/step - loss: 0.0121 - mae: 0.0881 - val_loss: 0.0120 - val_mae: 0.0875\n",
            "Epoch 70/100\n",
            "35/35 [==============================] - 0s 6ms/step - loss: 0.0120 - mae: 0.0877 - val_loss: 0.0119 - val_mae: 0.0874\n",
            "Epoch 71/100\n",
            "35/35 [==============================] - 0s 5ms/step - loss: 0.0118 - mae: 0.0872 - val_loss: 0.0121 - val_mae: 0.0884\n",
            "Epoch 72/100\n",
            "35/35 [==============================] - 0s 5ms/step - loss: 0.0119 - mae: 0.0873 - val_loss: 0.0119 - val_mae: 0.0873\n",
            "Epoch 73/100\n",
            "35/35 [==============================] - 0s 5ms/step - loss: 0.0118 - mae: 0.0870 - val_loss: 0.0115 - val_mae: 0.0857\n",
            "Epoch 74/100\n",
            "35/35 [==============================] - 0s 6ms/step - loss: 0.0118 - mae: 0.0870 - val_loss: 0.0118 - val_mae: 0.0870\n",
            "Epoch 75/100\n",
            "35/35 [==============================] - 0s 4ms/step - loss: 0.0115 - mae: 0.0860 - val_loss: 0.0114 - val_mae: 0.0858\n",
            "Epoch 76/100\n",
            "35/35 [==============================] - 0s 5ms/step - loss: 0.0113 - mae: 0.0854 - val_loss: 0.0114 - val_mae: 0.0857\n",
            "Epoch 77/100\n",
            "35/35 [==============================] - 0s 4ms/step - loss: 0.0113 - mae: 0.0853 - val_loss: 0.0116 - val_mae: 0.0861\n",
            "Epoch 78/100\n",
            "35/35 [==============================] - 0s 4ms/step - loss: 0.0113 - mae: 0.0851 - val_loss: 0.0111 - val_mae: 0.0847\n",
            "Epoch 79/100\n",
            "35/35 [==============================] - 0s 3ms/step - loss: 0.0111 - mae: 0.0849 - val_loss: 0.0113 - val_mae: 0.0852\n",
            "Epoch 80/100\n",
            "35/35 [==============================] - 0s 5ms/step - loss: 0.0111 - mae: 0.0845 - val_loss: 0.0110 - val_mae: 0.0842\n",
            "Epoch 81/100\n",
            "35/35 [==============================] - 0s 3ms/step - loss: 0.0110 - mae: 0.0844 - val_loss: 0.0109 - val_mae: 0.0836\n",
            "Epoch 82/100\n",
            "35/35 [==============================] - 0s 6ms/step - loss: 0.0111 - mae: 0.0845 - val_loss: 0.0109 - val_mae: 0.0841\n",
            "Epoch 83/100\n",
            "35/35 [==============================] - 0s 6ms/step - loss: 0.0110 - mae: 0.0843 - val_loss: 0.0109 - val_mae: 0.0836\n",
            "Epoch 84/100\n",
            "35/35 [==============================] - 0s 5ms/step - loss: 0.0110 - mae: 0.0840 - val_loss: 0.0108 - val_mae: 0.0832\n",
            "Epoch 85/100\n",
            "35/35 [==============================] - 0s 4ms/step - loss: 0.0108 - mae: 0.0833 - val_loss: 0.0108 - val_mae: 0.0836\n",
            "Epoch 86/100\n",
            "35/35 [==============================] - 0s 5ms/step - loss: 0.0109 - mae: 0.0839 - val_loss: 0.0110 - val_mae: 0.0845\n",
            "Epoch 87/100\n",
            "35/35 [==============================] - 0s 5ms/step - loss: 0.0109 - mae: 0.0840 - val_loss: 0.0107 - val_mae: 0.0834\n",
            "Epoch 88/100\n",
            "35/35 [==============================] - 0s 5ms/step - loss: 0.0108 - mae: 0.0835 - val_loss: 0.0107 - val_mae: 0.0830\n",
            "Epoch 89/100\n",
            "35/35 [==============================] - 0s 5ms/step - loss: 0.0108 - mae: 0.0833 - val_loss: 0.0107 - val_mae: 0.0831\n",
            "Epoch 90/100\n",
            "35/35 [==============================] - 0s 6ms/step - loss: 0.0107 - mae: 0.0831 - val_loss: 0.0108 - val_mae: 0.0839\n",
            "Epoch 91/100\n",
            "35/35 [==============================] - 0s 6ms/step - loss: 0.0107 - mae: 0.0833 - val_loss: 0.0106 - val_mae: 0.0830\n",
            "Epoch 92/100\n",
            "35/35 [==============================] - 0s 7ms/step - loss: 0.0107 - mae: 0.0831 - val_loss: 0.0108 - val_mae: 0.0832\n",
            "Epoch 93/100\n",
            "35/35 [==============================] - 0s 6ms/step - loss: 0.0107 - mae: 0.0831 - val_loss: 0.0111 - val_mae: 0.0842\n",
            "Epoch 94/100\n",
            "35/35 [==============================] - 0s 6ms/step - loss: 0.0108 - mae: 0.0836 - val_loss: 0.0106 - val_mae: 0.0833\n",
            "Epoch 95/100\n",
            "35/35 [==============================] - 0s 3ms/step - loss: 0.0105 - mae: 0.0824 - val_loss: 0.0106 - val_mae: 0.0833\n",
            "Epoch 96/100\n",
            "35/35 [==============================] - 0s 4ms/step - loss: 0.0106 - mae: 0.0829 - val_loss: 0.0110 - val_mae: 0.0845\n",
            "Epoch 97/100\n",
            "35/35 [==============================] - 0s 4ms/step - loss: 0.0107 - mae: 0.0832 - val_loss: 0.0106 - val_mae: 0.0824\n",
            "Epoch 98/100\n",
            "35/35 [==============================] - 0s 3ms/step - loss: 0.0109 - mae: 0.0839 - val_loss: 0.0106 - val_mae: 0.0826\n",
            "Epoch 99/100\n",
            "35/35 [==============================] - 0s 3ms/step - loss: 0.0107 - mae: 0.0828 - val_loss: 0.0110 - val_mae: 0.0842\n",
            "Epoch 100/100\n",
            "35/35 [==============================] - 0s 3ms/step - loss: 0.0106 - mae: 0.0828 - val_loss: 0.0106 - val_mae: 0.0827\n"
          ]
        },
        {
          "output_type": "execute_result",
          "data": {
            "text/plain": [
              "<keras.src.callbacks.History at 0x7e791ef8ddb0>"
            ]
          },
          "metadata": {},
          "execution_count": 4
        }
      ]
    },
    {
      "cell_type": "code",
      "source": [
        "x_test = np.array(0.5*math.pi).astype('float32').reshape(1,1)\n",
        "print(model.predict(x_test))"
      ],
      "metadata": {
        "colab": {
          "base_uri": "https://localhost:8080/"
        },
        "id": "H-ayNnLZLpPu",
        "outputId": "8ba986fd-6794-4720-f01d-38c7105dcc6f"
      },
      "execution_count": 5,
      "outputs": [
        {
          "output_type": "stream",
          "name": "stdout",
          "text": [
            "1/1 [==============================] - 0s 108ms/step\n",
            "[[1.0016772]]\n"
          ]
        }
      ]
    },
    {
      "cell_type": "code",
      "source": [
        "converter = tf.lite.TFLiteConverter.from_keras_model(model)\n",
        "converter.optimizations = [tf.lite.Optimize.DEFAULT]\n",
        "converter.target_spec.supported_ops = [tf.lite.OpsSet.TFLITE_BUILTINS]\n",
        "tflite_model = converter.convert()\n",
        "open(\"sine_model_quantized.tflite\", \"wb\").write(tflite_model)"
      ],
      "metadata": {
        "colab": {
          "base_uri": "https://localhost:8080/"
        },
        "id": "Omg4LjafNXJX",
        "outputId": "4b5f457b-910e-4912-edaf-651501539955"
      },
      "execution_count": 6,
      "outputs": [
        {
          "output_type": "execute_result",
          "data": {
            "text/plain": [
              "4320"
            ]
          },
          "metadata": {},
          "execution_count": 6
        }
      ]
    },
    {
      "cell_type": "code",
      "source": [
        "# #tflite推理\n",
        "\n",
        "x = np.array(0.5*math.pi).astype('float32').reshape(1,1)\n",
        "\n",
        "interpreter = tf.lite.Interpreter(model_path=\"sine_model_quantized.tflite\")\n",
        "input_details = interpreter.get_input_details()\n",
        "output_details = interpreter.get_output_details()\n",
        "\n",
        "\n",
        "interpreter.resize_tensor_input(input_details[0]['index'], x.shape)\n",
        "interpreter.allocate_tensors()\n",
        "\n",
        "interpreter.set_tensor(input_details[0]['index'], x)\n",
        "interpreter.invoke()\n",
        "output_data = interpreter.get_tensor(output_details[0]['index'])\n",
        "\n",
        "print(output_data)\n"
      ],
      "metadata": {
        "colab": {
          "base_uri": "https://localhost:8080/"
        },
        "id": "wKzrzLnFNm_X",
        "outputId": "15f5f2bf-273b-4592-f787-c82e790334ab"
      },
      "execution_count": 7,
      "outputs": [
        {
          "output_type": "stream",
          "name": "stdout",
          "text": [
            "[[1.001677]]\n"
          ]
        }
      ]
    },
    {
      "cell_type": "code",
      "source": [
        "!apt-get -qq install xxd\n",
        "!xxd -i sine_model_quantized.tflite > sine_model_quantized.cc"
      ],
      "metadata": {
        "id": "dM7Itc95N0R3"
      },
      "execution_count": 8,
      "outputs": []
    }
  ]
}