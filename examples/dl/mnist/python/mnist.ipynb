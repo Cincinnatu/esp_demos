{
  "cells": [
    {
      "cell_type": "code",
      "execution_count": null,
      "metadata": {
        "id": "SCJV-FNVH2gg"
      },
      "outputs": [],
      "source": [
        "import tensorflow as tf\n",
        "from tensorflow import keras"
      ]
    },
    {
      "cell_type": "code",
      "execution_count": null,
      "metadata": {
        "id": "JgX5PqL2H4nS"
      },
      "outputs": [],
      "source": [
        "mnist = tf.keras.datasets.mnist\n",
        "(train_images, train_labels),(test_images, test_labels) = mnist.load_data()"
      ]
    },
    {
      "cell_type": "code",
      "execution_count": null,
      "metadata": {
        "colab": {
          "base_uri": "https://localhost:8080/"
        },
        "id": "-Dg0jCWJH9WS",
        "outputId": "23b3c5dc-5a5f-4e01-a4b3-37eca411eb14"
      },
      "outputs": [
        {
          "name": "stdout",
          "output_type": "stream",
          "text": [
            "[0. 0. 0. 0. 0. 1. 0. 0. 0. 0.]\n"
          ]
        }
      ],
      "source": [
        "train_x = train_images.reshape((train_images.shape[0], 28, 28, 1))\n",
        "train_x = train_x.astype('float32')/255\n",
        "test_x = test_images.reshape((test_images.shape[0], 28, 28, 1))\n",
        "test_x = test_x.astype('float32')/255\n",
        "\n",
        "train_y = tf.keras.utils.to_categorical(train_labels)\n",
        "test_y = tf.keras.utils.to_categorical(test_labels)\n",
        "print(train_y[0])"
      ]
    },
    {
      "cell_type": "code",
      "execution_count": null,
      "metadata": {
        "id": "1CBSwMP2JdfH"
      },
      "outputs": [],
      "source": [
        "model = tf.keras.models.Sequential([\n",
        "    tf.keras.layers.Conv2D(32, (3, 3), activation=tf.nn.relu, input_shape=(28, 28, 1)),\n",
        "    tf.keras.layers.MaxPooling2D((2, 2)),\n",
        "    tf.keras.layers.Conv2D(64, (3, 3), activation=tf.nn.relu),\n",
        "    tf.keras.layers.MaxPooling2D((2, 2)),\n",
        "    tf.keras.layers.Conv2D(64, (3, 3), activation=tf.nn.relu),\n",
        "    tf.keras.layers.Flatten(),\n",
        "    tf.keras.layers.Dense(64, activation=tf.nn.relu),\n",
        "    tf.keras.layers.Dense(10, activation=tf.nn.softmax)\n",
        "])\n",
        "model.compile(optimizer='adam',\n",
        "              loss='categorical_crossentropy',\n",
        "              metrics=['accuracy'])"
      ]
    },
    {
      "cell_type": "code",
      "execution_count": null,
      "metadata": {
        "colab": {
          "base_uri": "https://localhost:8080/"
        },
        "id": "9ZPxh0n8JZDo",
        "outputId": "b2d5eca1-d73c-4aa1-9163-0a97b91cf304"
      },
      "outputs": [
        {
          "name": "stdout",
          "output_type": "stream",
          "text": [
            "Epoch 1/50\n",
            "118/118 [==============================] - 2s 13ms/step - loss: 0.0071 - accuracy: 0.9978 - val_loss: 0.0355 - val_accuracy: 0.9902\n",
            "Epoch 2/50\n",
            "118/118 [==============================] - 1s 12ms/step - loss: 0.0073 - accuracy: 0.9975 - val_loss: 0.0316 - val_accuracy: 0.9904\n",
            "Epoch 3/50\n",
            "118/118 [==============================] - 1s 11ms/step - loss: 0.0088 - accuracy: 0.9971 - val_loss: 0.0350 - val_accuracy: 0.9900\n",
            "Epoch 4/50\n",
            "118/118 [==============================] - 1s 10ms/step - loss: 0.0057 - accuracy: 0.9980 - val_loss: 0.0301 - val_accuracy: 0.9914\n",
            "Epoch 5/50\n",
            "118/118 [==============================] - 1s 11ms/step - loss: 0.0061 - accuracy: 0.9980 - val_loss: 0.0325 - val_accuracy: 0.9918\n",
            "Epoch 6/50\n",
            "118/118 [==============================] - 1s 10ms/step - loss: 0.0045 - accuracy: 0.9987 - val_loss: 0.0372 - val_accuracy: 0.9909\n",
            "Epoch 7/50\n",
            "118/118 [==============================] - 1s 10ms/step - loss: 0.0060 - accuracy: 0.9981 - val_loss: 0.0331 - val_accuracy: 0.9919\n",
            "Epoch 8/50\n",
            "118/118 [==============================] - 1s 10ms/step - loss: 0.0036 - accuracy: 0.9988 - val_loss: 0.0400 - val_accuracy: 0.9906\n",
            "Epoch 9/50\n",
            "118/118 [==============================] - 1s 11ms/step - loss: 0.0058 - accuracy: 0.9980 - val_loss: 0.0359 - val_accuracy: 0.9916\n",
            "Epoch 10/50\n",
            "118/118 [==============================] - 1s 10ms/step - loss: 0.0032 - accuracy: 0.9990 - val_loss: 0.0330 - val_accuracy: 0.9913\n",
            "Epoch 11/50\n",
            "118/118 [==============================] - 1s 12ms/step - loss: 0.0043 - accuracy: 0.9984 - val_loss: 0.0389 - val_accuracy: 0.9905\n",
            "Epoch 12/50\n",
            "118/118 [==============================] - 1s 13ms/step - loss: 0.0072 - accuracy: 0.9975 - val_loss: 0.0361 - val_accuracy: 0.9909\n",
            "Epoch 13/50\n",
            "118/118 [==============================] - 1s 11ms/step - loss: 0.0047 - accuracy: 0.9983 - val_loss: 0.0393 - val_accuracy: 0.9909\n",
            "Epoch 14/50\n",
            "118/118 [==============================] - 1s 11ms/step - loss: 0.0107 - accuracy: 0.9963 - val_loss: 0.0400 - val_accuracy: 0.9913\n",
            "Epoch 15/50\n",
            "118/118 [==============================] - 1s 10ms/step - loss: 0.0034 - accuracy: 0.9988 - val_loss: 0.0342 - val_accuracy: 0.9922\n",
            "Epoch 16/50\n",
            "118/118 [==============================] - 1s 11ms/step - loss: 0.0014 - accuracy: 0.9997 - val_loss: 0.0325 - val_accuracy: 0.9928\n",
            "Epoch 17/50\n",
            "118/118 [==============================] - 1s 10ms/step - loss: 8.9211e-04 - accuracy: 0.9998 - val_loss: 0.0367 - val_accuracy: 0.9927\n",
            "Epoch 18/50\n",
            "118/118 [==============================] - 1s 10ms/step - loss: 0.0012 - accuracy: 0.9997 - val_loss: 0.0347 - val_accuracy: 0.9918\n",
            "Epoch 19/50\n",
            "118/118 [==============================] - 1s 10ms/step - loss: 0.0014 - accuracy: 0.9995 - val_loss: 0.0423 - val_accuracy: 0.9919\n",
            "Epoch 20/50\n",
            "118/118 [==============================] - 1s 10ms/step - loss: 0.0045 - accuracy: 0.9984 - val_loss: 0.0410 - val_accuracy: 0.9909\n",
            "Epoch 21/50\n",
            "118/118 [==============================] - 1s 12ms/step - loss: 0.0091 - accuracy: 0.9969 - val_loss: 0.0365 - val_accuracy: 0.9909\n",
            "Epoch 22/50\n",
            "118/118 [==============================] - 2s 16ms/step - loss: 0.0060 - accuracy: 0.9980 - val_loss: 0.0437 - val_accuracy: 0.9895\n",
            "Epoch 23/50\n",
            "118/118 [==============================] - 1s 11ms/step - loss: 0.0019 - accuracy: 0.9993 - val_loss: 0.0351 - val_accuracy: 0.9931\n",
            "Epoch 24/50\n",
            "118/118 [==============================] - 1s 11ms/step - loss: 0.0026 - accuracy: 0.9992 - val_loss: 0.0424 - val_accuracy: 0.9909\n",
            "Epoch 25/50\n",
            "118/118 [==============================] - 1s 11ms/step - loss: 0.0014 - accuracy: 0.9996 - val_loss: 0.0370 - val_accuracy: 0.9921\n",
            "Epoch 26/50\n",
            "118/118 [==============================] - 1s 10ms/step - loss: 0.0028 - accuracy: 0.9991 - val_loss: 0.0402 - val_accuracy: 0.9913\n",
            "Epoch 27/50\n",
            "118/118 [==============================] - 1s 11ms/step - loss: 0.0013 - accuracy: 0.9996 - val_loss: 0.0418 - val_accuracy: 0.9921\n",
            "Epoch 28/50\n",
            "118/118 [==============================] - 1s 11ms/step - loss: 2.7173e-04 - accuracy: 0.9999 - val_loss: 0.0396 - val_accuracy: 0.9926\n",
            "Epoch 29/50\n",
            "118/118 [==============================] - 1s 11ms/step - loss: 7.0518e-05 - accuracy: 1.0000 - val_loss: 0.0395 - val_accuracy: 0.9929\n",
            "Epoch 30/50\n",
            "118/118 [==============================] - 1s 12ms/step - loss: 4.5245e-05 - accuracy: 1.0000 - val_loss: 0.0402 - val_accuracy: 0.9929\n",
            "Epoch 31/50\n",
            "118/118 [==============================] - 1s 12ms/step - loss: 3.7920e-05 - accuracy: 1.0000 - val_loss: 0.0407 - val_accuracy: 0.9930\n",
            "Epoch 32/50\n",
            "118/118 [==============================] - 1s 10ms/step - loss: 3.4730e-05 - accuracy: 1.0000 - val_loss: 0.0410 - val_accuracy: 0.9929\n",
            "Epoch 33/50\n",
            "118/118 [==============================] - 1s 10ms/step - loss: 3.0009e-05 - accuracy: 1.0000 - val_loss: 0.0415 - val_accuracy: 0.9929\n",
            "Epoch 34/50\n",
            "118/118 [==============================] - 1s 10ms/step - loss: 2.6011e-05 - accuracy: 1.0000 - val_loss: 0.0416 - val_accuracy: 0.9930\n",
            "Epoch 35/50\n",
            "118/118 [==============================] - 1s 11ms/step - loss: 2.2794e-05 - accuracy: 1.0000 - val_loss: 0.0418 - val_accuracy: 0.9930\n",
            "Epoch 36/50\n",
            "118/118 [==============================] - 1s 11ms/step - loss: 2.2052e-05 - accuracy: 1.0000 - val_loss: 0.0421 - val_accuracy: 0.9930\n",
            "Epoch 37/50\n",
            "118/118 [==============================] - 1s 10ms/step - loss: 1.9564e-05 - accuracy: 1.0000 - val_loss: 0.0423 - val_accuracy: 0.9930\n",
            "Epoch 38/50\n",
            "118/118 [==============================] - 1s 11ms/step - loss: 1.7680e-05 - accuracy: 1.0000 - val_loss: 0.0429 - val_accuracy: 0.9933\n",
            "Epoch 39/50\n",
            "118/118 [==============================] - 1s 11ms/step - loss: 1.6355e-05 - accuracy: 1.0000 - val_loss: 0.0431 - val_accuracy: 0.9930\n",
            "Epoch 40/50\n",
            "118/118 [==============================] - 1s 12ms/step - loss: 1.5105e-05 - accuracy: 1.0000 - val_loss: 0.0433 - val_accuracy: 0.9930\n",
            "Epoch 41/50\n",
            "118/118 [==============================] - 2s 17ms/step - loss: 1.4303e-05 - accuracy: 1.0000 - val_loss: 0.0436 - val_accuracy: 0.9932\n",
            "Epoch 42/50\n",
            "118/118 [==============================] - 1s 11ms/step - loss: 1.3324e-05 - accuracy: 1.0000 - val_loss: 0.0437 - val_accuracy: 0.9931\n",
            "Epoch 43/50\n",
            "118/118 [==============================] - 1s 11ms/step - loss: 1.2348e-05 - accuracy: 1.0000 - val_loss: 0.0440 - val_accuracy: 0.9930\n",
            "Epoch 44/50\n",
            "118/118 [==============================] - 1s 11ms/step - loss: 1.1518e-05 - accuracy: 1.0000 - val_loss: 0.0443 - val_accuracy: 0.9931\n",
            "Epoch 45/50\n",
            "118/118 [==============================] - 1s 10ms/step - loss: 1.0486e-05 - accuracy: 1.0000 - val_loss: 0.0444 - val_accuracy: 0.9931\n",
            "Epoch 46/50\n",
            "118/118 [==============================] - 1s 10ms/step - loss: 1.0180e-05 - accuracy: 1.0000 - val_loss: 0.0449 - val_accuracy: 0.9932\n",
            "Epoch 47/50\n",
            "118/118 [==============================] - 1s 11ms/step - loss: 9.1064e-06 - accuracy: 1.0000 - val_loss: 0.0452 - val_accuracy: 0.9932\n",
            "Epoch 48/50\n",
            "118/118 [==============================] - 1s 10ms/step - loss: 8.4936e-06 - accuracy: 1.0000 - val_loss: 0.0454 - val_accuracy: 0.9930\n",
            "Epoch 49/50\n",
            "118/118 [==============================] - 1s 12ms/step - loss: 7.9104e-06 - accuracy: 1.0000 - val_loss: 0.0457 - val_accuracy: 0.9932\n",
            "Epoch 50/50\n",
            "118/118 [==============================] - 1s 12ms/step - loss: 7.6241e-06 - accuracy: 1.0000 - val_loss: 0.0458 - val_accuracy: 0.9930\n"
          ]
        },
        {
          "name": "stderr",
          "output_type": "stream",
          "text": [
            "/usr/local/lib/python3.10/dist-packages/keras/src/engine/training.py:3103: UserWarning: You are saving your model as an HDF5 file via `model.save()`. This file format is considered legacy. We recommend using instead the native Keras format, e.g. `model.save('my_model.keras')`.\n",
            "  saving_api.save_model(\n"
          ]
        }
      ],
      "source": [
        "model.fit(train_x, train_y, epochs=50, batch_size=512,validation_data=(test_x,test_y))\n",
        "model.save(\"mnist.h5\")"
      ]
    },
    {
      "cell_type": "code",
      "execution_count": null,
      "metadata": {
        "colab": {
          "base_uri": "https://localhost:8080/"
        },
        "id": "V3E8xcWdP_3-",
        "outputId": "e220fd88-4936-4e68-ca69-d75a4f8065c9"
      },
      "outputs": [
        {
          "name": "stdout",
          "output_type": "stream",
          "text": [
            "The size of the converted flatbuffer is: 377312 bytes\n"
          ]
        }
      ],
      "source": [
        "converter = tf.lite.TFLiteConverter.from_keras_model(model)\n",
        "tflite_model = converter.convert()\n",
        "flatbuffer_size = open(\"mnist.tflite\", \"wb\").write(tflite_model)\n",
        "\n",
        "print('The size of the converted flatbuffer is: %d bytes' % flatbuffer_size)\n"
      ]
    },
    {
      "cell_type": "code",
      "execution_count": null,
      "metadata": {
        "id": "YMWtd5F9VsKo"
      },
      "outputs": [],
      "source": [
        "!apt-get -qq install xxd\n",
        "!xxd -i mnist.tflite > mnist.cc\n"
      ]
    },
    {
      "cell_type": "code",
      "execution_count": null,
      "metadata": {
        "colab": {
          "base_uri": "https://localhost:8080/",
          "height": 501
        },
        "id": "ZhALlWpeV2JI",
        "outputId": "f89c9406-4795-4467-b449-228771fefb6c"
      },
      "outputs": [
        {
          "data": {
            "image/png": "[encoded data removed]",
            "text/plain": [
              "<Figure size 640x480 with 1 Axes>"
            ]
          },
          "metadata": {},
          "output_type": "display_data"
        },
        {
          "name": "stdout",
          "output_type": "stream",
          "text": [
            "[0. 0. 0. 0. 0. 0. 0. 0. 1. 0.]\n",
            "1/1 [==============================] - 0s 20ms/step\n",
            "8\n",
            "(784,)\n"
          ]
        }
      ],
      "source": [
        "import numpy as np\n",
        "import matplotlib.pyplot as plt\n",
        "test = test_x[232]\n",
        "\n",
        "fig = plt.figure\n",
        "plt.imshow(test, cmap='gray')\n",
        "plt.show()\n",
        "\n",
        "print(test_y[232])\n",
        "test = test.reshape(-1,28,28,1)\n",
        "print(np.argmax(model.predict(test)))\n",
        "\n",
        "\n",
        "test_1 = test.reshape(28,28)\n",
        "array = test_1.flatten()\n",
        "print(array.shape)\n",
        "# result_string = \",\".join(map(str, array))\n",
        "# print(result_string)\n"
      ]
    },
    {
      "cell_type": "markdown",
      "metadata": {
        "id": "I9pe-kWOFdzU"
      },
      "source": [
        "# 预测自己手写的"
      ]
    },
    {
      "cell_type": "code",
      "execution_count": null,
      "metadata": {
        "colab": {
          "background_save": true,
          "base_uri": "https://localhost:8080/",
          "height": 555
        },
        "id": "Se0VEnd4Fddn",
        "outputId": "6801bb02-1bce-4f89-a200-11f65eb49a16"
      },
      "outputs": [
        {
          "name": "stdout",
          "output_type": "stream",
          "text": [
            "(28, 28, 1)\n",
            "1/1 [==============================] - 0s 57ms/step\n",
            "[[7.8209581e-14 2.4089399e-11 1.0000000e+00 1.3491262e-12 4.4920764e-12\n",
            "  1.7890266e-17 6.5067170e-19 8.7419078e-16 5.5471360e-11 9.6178145e-14]]\n",
            "预测数字： 2\n",
            "预测概率： [[7.8209581e-14 2.4089399e-11 1.0000000e+00 1.3491262e-12 4.4920764e-12\n",
            "  1.7890266e-17 6.5067170e-19 8.7419078e-16 5.5471360e-11 9.6178145e-14]]\n"
          ]
        },
        {
          "data": {
            "image/png": "[encoded data removed]",
            "text/plain": [
              "<Figure size 640x480 with 1 Axes>"
            ]
          },
          "metadata": {},
          "output_type": "display_data"
        }
      ],
      "source": [
        "\n",
        "img=tf.keras.preprocessing.image.load_img(\"/content/3.jpg\",target_size=(28, 28),color_mode=\"grayscale\")\n",
        "img=tf.keras.preprocessing.image.img_to_array(img)\n",
        "print(img.shape)\n",
        "\n",
        "img=img.astype('float32')/255\n",
        "plt.imshow(img)\n",
        "\n",
        "img=img.reshape((1,28,28,1))\n",
        "y_pred = model.predict(img)\n",
        "\n",
        "print(y_pred)\n",
        "print('预测数字：',np.argmax(y_pred, axis=1)[0])\n",
        "print('预测概率：',y_pred)\n"
      ]
    }
  ],
  "metadata": {
    "accelerator": "GPU",
    "colab": {
      "gpuType": "T4",
      "provenance": [],
      "toc_visible": true
    },
    "kernelspec": {
      "display_name": "Python 3",
      "name": "python3"
    },
    "language_info": {
      "name": "python"
    }
  },
  "nbformat": 4,
  "nbformat_minor": 0
}